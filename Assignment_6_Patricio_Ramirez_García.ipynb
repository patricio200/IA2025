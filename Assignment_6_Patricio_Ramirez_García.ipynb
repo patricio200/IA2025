{
  "nbformat": 4,
  "nbformat_minor": 0,
  "metadata": {
    "colab": {
      "provenance": [],
      "include_colab_link": true
    },
    "kernelspec": {
      "name": "python3",
      "display_name": "Python 3"
    },
    "language_info": {
      "name": "python"
    }
  },
  "cells": [
    {
      "cell_type": "markdown",
      "metadata": {
        "id": "view-in-github",
        "colab_type": "text"
      },
      "source": [
        "<a href=\"https://colab.research.google.com/github/patricio200/IA2025/blob/main/Assignment_6_Patricio_Ramirez_Garc%C3%ADa.ipynb\" target=\"_parent\"><img src=\"https://colab.research.google.com/assets/colab-badge.svg\" alt=\"Open In Colab\"/></a>"
      ]
    },
    {
      "cell_type": "markdown",
      "source": [
        "---\n",
        "\n",
        "\n",
        "Universidad Autonoma de Nuevo León - Facultad de Ingenieria Mecanica y Electrica\n",
        "> Inteligencia Artifial | Ene - Jun 2025\n",
        "\n",
        "Professor:\n",
        "\n",
        "> Daniel Isaías López Páez\n",
        "\n",
        "Students:\n",
        "\n",
        "> 2077950 Patricio Ramirez García"
      ],
      "metadata": {
        "id": "csbXFru_Lk7g"
      }
    },
    {
      "cell_type": "markdown",
      "source": [
        "**Assignment 6: Convutional Neural Network**\n",
        "\n",
        "---\n",
        "\n"
      ],
      "metadata": {
        "id": "8e8EwuVsOT1V"
      }
    },
    {
      "cell_type": "markdown",
      "source": [
        "**Objective**.- To train a Convolutional Neural Network (CNN) model.\n",
        "\n",
        "\n",
        "\n",
        "**Instructions**.-\n",
        "\n",
        "The student will implement and train a Convolutional Neural Network (CNN) using the Python programming language in Google Colab. The model will use the MNIST dataset, which contains low-resolution grayscale images of handwritten digits (0 to 9). This dataset is available through the Keras library. More information: https://keras.io/api/datasets/mnist/\n",
        "\n",
        "For data preprocessing, use the load_data() function from the Keras library to load the dataset. This function returns the training and test sets: (train_data, train_labels) and (test_data, test_labels). The default split provided by Keras can be used.\n",
        "\n",
        "The student will design the architecture of the CNN and train it using the training data. Training will be done using the fit() function from the TensorFlow library. The output layer must use the softmax activation function.\n",
        "\n",
        "You must define the loss function, the optimizer, and the evaluation metric (accuracy) to monitor the model's performance.\n",
        "\n",
        "Use the evaluate() function to display the model’s prediction accuracy on the test dataset (test_data).\n",
        "\n",
        "Make five predictions using the test dataset and display both the predicted value and the actual value for each.\n",
        "\n",
        "Finally, answer the following questions:\n",
        "\n",
        "+ How many epochs did you use to improve the model’s performance compared to the feedforward neural network from Assignment 6?\n",
        "\n",
        "+ Did you achieve better performance in this assignment or in Assignment 6? Explain why.\n",
        "\n"
      ],
      "metadata": {
        "id": "5S_jJjQ2OSrp"
      }
    },
    {
      "cell_type": "markdown",
      "source": [
        "**Step 1: Load libraries**\n"
      ],
      "metadata": {
        "id": "mw3VnnRlOngl"
      }
    },
    {
      "cell_type": "code",
      "execution_count": null,
      "metadata": {
        "id": "AOBKSZXaLSkt"
      },
      "outputs": [],
      "source": [
        "# TensorFlow and tf.keras\n",
        "import tensorflow as tf\n",
        "\n",
        "from tensorflow.keras import datasets, layers, models\n",
        "import matplotlib.pyplot as plt\n",
        "\n"
      ]
    },
    {
      "cell_type": "markdown",
      "source": [
        "**Step 2: Load data**"
      ],
      "metadata": {
        "id": "qQP4z-anO0Sm"
      }
    },
    {
      "cell_type": "code",
      "source": [
        "(train_images, train_labels), (test_images, test_labels) = datasets.mnist.load_data()\n",
        "# Normalize pixel values to be between 0 and 1\n",
        "train_images, test_images = train_images / 255.0, test_images / 255.0\n"
      ],
      "metadata": {
        "id": "S6UET5QHO0_e"
      },
      "execution_count": null,
      "outputs": []
    },
    {
      "cell_type": "markdown",
      "source": [
        "**Step 3: Data preprocessing**"
      ],
      "metadata": {
        "id": "GM2KXptaO1Os"
      }
    },
    {
      "cell_type": "code",
      "source": [
        "class_names = ['Zero', 'One', 'Two', 'Three', 'Four', 'Five', 'Six', 'Seven', 'Eight', 'Nine', 'Ten']"
      ],
      "metadata": {
        "id": "zMkdnkbzreyy"
      },
      "execution_count": null,
      "outputs": []
    },
    {
      "cell_type": "code",
      "source": [
        "plt.figure(figsize=(10,10))\n",
        "for i in range(25):\n",
        "    plt.subplot(5,5,i+1)\n",
        "    plt.xticks([])\n",
        "    plt.yticks([])\n",
        "    plt.grid(False)\n",
        "    plt.imshow(train_images[i])\n",
        "    # The CIFAR labels happen to be arrays,\n",
        "    # which is why you need the extra index\n",
        "    plt.xlabel(class_names[train_labels[i]])\n",
        "plt.show()"
      ],
      "metadata": {
        "colab": {
          "base_uri": "https://localhost:8080/",
          "height": 826
        },
        "id": "aObYQnIkrvtf",
        "outputId": "ed0c7279-a72e-4ffd-8ecb-2a821d17d554"
      },
      "execution_count": null,
      "outputs": [
        {
          "output_type": "display_data",
          "data": {
            "text/plain": [
              "<Figure size 1000x1000 with 25 Axes>"
            ],
            "image/png": "[encoded data removed]"
          },
          "metadata": {}
        }
      ]
    },
    {
      "cell_type": "markdown",
      "source": [
        "**Step 4: Model selection and training**"
      ],
      "metadata": {
        "id": "qpaNzdpAO1jb"
      }
    },
    {
      "cell_type": "code",
      "source": [
        "model = models.Sequential()\n",
        "model.add(layers.Conv2D(32, (3, 3), activation='relu', input_shape=(28, 28, 1)))  # Aquí modificamos el input_shape\n",
        "model.add(layers.MaxPooling2D((2, 2)))\n",
        "model.add(layers.Conv2D(64, (3, 3), activation='relu'))\n",
        "model.add(layers.MaxPooling2D((2, 2)))\n",
        "model.add(layers.Conv2D(64, (3, 3), activation='relu'))"
      ],
      "metadata": {
        "id": "efqBDVAcsELE"
      },
      "execution_count": null,
      "outputs": []
    },
    {
      "cell_type": "code",
      "source": [
        "model.summary()"
      ],
      "metadata": {
        "colab": {
          "base_uri": "https://localhost:8080/"
        },
        "id": "NqK21LTksHGj",
        "outputId": "4baee215-659c-47b9-fb87-0dfc1232f130"
      },
      "execution_count": null,
      "outputs": [
        {
          "output_type": "stream",
          "name": "stdout",
          "text": [
            "Model: \"sequential_3\"\n",
            "_________________________________________________________________\n",
            " Layer (type)                Output Shape              Param #   \n",
            "=================================================================\n",
            " conv2d_6 (Conv2D)           (None, 26, 26, 32)        320       \n",
            "                                                                 \n",
            " max_pooling2d_4 (MaxPoolin  (None, 13, 13, 32)        0         \n",
            " g2D)                                                            \n",
            "                                                                 \n",
            " conv2d_7 (Conv2D)           (None, 11, 11, 64)        18496     \n",
            "                                                                 \n",
            " max_pooling2d_5 (MaxPoolin  (None, 5, 5, 64)          0         \n",
            " g2D)                                                            \n",
            "                                                                 \n",
            " conv2d_8 (Conv2D)           (None, 3, 3, 64)          36928     \n",
            "                                                                 \n",
            "=================================================================\n",
            "Total params: 55744 (217.75 KB)\n",
            "Trainable params: 55744 (217.75 KB)\n",
            "Non-trainable params: 0 (0.00 Byte)\n",
            "_________________________________________________________________\n"
          ]
        }
      ]
    },
    {
      "cell_type": "code",
      "source": [
        "model.add(layers.Flatten())\n",
        "model.add(layers.Dense(64, activation='relu'))\n",
        "model.add(layers.Dense(10))"
      ],
      "metadata": {
        "id": "FyvHmBTysM2V"
      },
      "execution_count": null,
      "outputs": []
    },
    {
      "cell_type": "markdown",
      "source": [
        "**Step 5: Model testing**"
      ],
      "metadata": {
        "id": "58sIqKG_PxjR"
      }
    },
    {
      "cell_type": "code",
      "source": [
        "model.summary()"
      ],
      "metadata": {
        "id": "19bvcsTlO1q9",
        "colab": {
          "base_uri": "https://localhost:8080/"
        },
        "outputId": "c675cc10-223d-4bab-9483-347073277fd0"
      },
      "execution_count": null,
      "outputs": [
        {
          "output_type": "stream",
          "name": "stdout",
          "text": [
            "Model: \"sequential_3\"\n",
            "_________________________________________________________________\n",
            " Layer (type)                Output Shape              Param #   \n",
            "=================================================================\n",
            " conv2d_6 (Conv2D)           (None, 26, 26, 32)        320       \n",
            "                                                                 \n",
            " max_pooling2d_4 (MaxPoolin  (None, 13, 13, 32)        0         \n",
            " g2D)                                                            \n",
            "                                                                 \n",
            " conv2d_7 (Conv2D)           (None, 11, 11, 64)        18496     \n",
            "                                                                 \n",
            " max_pooling2d_5 (MaxPoolin  (None, 5, 5, 64)          0         \n",
            " g2D)                                                            \n",
            "                                                                 \n",
            " conv2d_8 (Conv2D)           (None, 3, 3, 64)          36928     \n",
            "                                                                 \n",
            " flatten_2 (Flatten)         (None, 576)               0         \n",
            "                                                                 \n",
            " dense_4 (Dense)             (None, 64)                36928     \n",
            "                                                                 \n",
            " dense_5 (Dense)             (None, 10)                650       \n",
            "                                                                 \n",
            "=================================================================\n",
            "Total params: 93322 (364.54 KB)\n",
            "Trainable params: 93322 (364.54 KB)\n",
            "Non-trainable params: 0 (0.00 Byte)\n",
            "_________________________________________________________________\n"
          ]
        }
      ]
    },
    {
      "cell_type": "code",
      "source": [
        "model.compile(optimizer='adam',\n",
        "              loss=tf.keras.losses.SparseCategoricalCrossentropy(from_logits=True),\n",
        "              metrics=['accuracy'])\n",
        "\n",
        "history = model.fit(train_images, train_labels, epochs=10,\n",
        "                    validation_data=(test_images, test_labels))"
      ],
      "metadata": {
        "colab": {
          "base_uri": "https://localhost:8080/"
        },
        "id": "PPxQP9JUsfHW",
        "outputId": "5e97163c-f16f-4a71-f13b-8c786b1fa8ce"
      },
      "execution_count": null,
      "outputs": [
        {
          "output_type": "stream",
          "name": "stdout",
          "text": [
            "Epoch 1/10\n",
            "1875/1875 [==============================] - 56s 29ms/step - loss: 0.1417 - accuracy: 0.9568 - val_loss: 0.0490 - val_accuracy: 0.9853\n",
            "Epoch 2/10\n",
            "1875/1875 [==============================] - 53s 28ms/step - loss: 0.0449 - accuracy: 0.9860 - val_loss: 0.0342 - val_accuracy: 0.9882\n",
            "Epoch 3/10\n",
            "1875/1875 [==============================] - 51s 27ms/step - loss: 0.0325 - accuracy: 0.9896 - val_loss: 0.0326 - val_accuracy: 0.9905\n",
            "Epoch 4/10\n",
            "1875/1875 [==============================] - 53s 28ms/step - loss: 0.0245 - accuracy: 0.9923 - val_loss: 0.0309 - val_accuracy: 0.9897\n",
            "Epoch 5/10\n",
            "1875/1875 [==============================] - 55s 29ms/step - loss: 0.0193 - accuracy: 0.9938 - val_loss: 0.0341 - val_accuracy: 0.9899\n",
            "Epoch 6/10\n",
            "1875/1875 [==============================] - 55s 29ms/step - loss: 0.0159 - accuracy: 0.9948 - val_loss: 0.0374 - val_accuracy: 0.9892\n",
            "Epoch 7/10\n",
            "1875/1875 [==============================] - 50s 27ms/step - loss: 0.0126 - accuracy: 0.9958 - val_loss: 0.0424 - val_accuracy: 0.9871\n",
            "Epoch 8/10\n",
            "1875/1875 [==============================] - 50s 27ms/step - loss: 0.0114 - accuracy: 0.9959 - val_loss: 0.0337 - val_accuracy: 0.9915\n",
            "Epoch 9/10\n",
            "1875/1875 [==============================] - 51s 27ms/step - loss: 0.0108 - accuracy: 0.9967 - val_loss: 0.0225 - val_accuracy: 0.9935\n",
            "Epoch 10/10\n",
            "1875/1875 [==============================] - 52s 28ms/step - loss: 0.0080 - accuracy: 0.9975 - val_loss: 0.0369 - val_accuracy: 0.9905\n"
          ]
        }
      ]
    },
    {
      "cell_type": "code",
      "source": [
        "plt.plot(history.history['accuracy'], label='accuracy')\n",
        "plt.plot(history.history['val_accuracy'], label = 'val_accuracy')\n",
        "plt.xlabel('Epoch')\n",
        "plt.ylabel('Accuracy')\n",
        "plt.ylim([0.5, 1])\n",
        "plt.legend(loc='lower right')\n",
        "\n",
        "test_loss, test_acc = model.evaluate(test_images,  test_labels, verbose=2)"
      ],
      "metadata": {
        "colab": {
          "base_uri": "https://localhost:8080/",
          "height": 472
        },
        "id": "Vm_2Cx9z2A0m",
        "outputId": "98a90761-e864-40d2-91e9-f677ccc3e03a"
      },
      "execution_count": null,
      "outputs": [
        {
          "output_type": "stream",
          "name": "stdout",
          "text": [
            "313/313 - 2s - loss: 0.0369 - accuracy: 0.9905 - 2s/epoch - 7ms/step\n"
          ]
        },
        {
          "output_type": "display_data",
          "data": {
            "text/plain": [
              "<Figure size 640x480 with 1 Axes>"
            ],
            "image/png": "[encoded data removed]"
          },
          "metadata": {}
        }
      ]
    },
    {
      "cell_type": "code",
      "source": [
        "print(test_acc)"
      ],
      "metadata": {
        "id": "_4JdwfS3PyEo",
        "colab": {
          "base_uri": "https://localhost:8080/"
        },
        "outputId": "a6dcdab6-f178-4ce9-b421-c2ef0b395722"
      },
      "execution_count": null,
      "outputs": [
        {
          "output_type": "stream",
          "name": "stdout",
          "text": [
            "0.9904999732971191\n"
          ]
        }
      ]
    }
  ]
}