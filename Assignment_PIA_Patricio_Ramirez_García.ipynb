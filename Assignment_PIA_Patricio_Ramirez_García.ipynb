{
  "nbformat": 4,
  "nbformat_minor": 0,
  "metadata": {
    "colab": {
      "provenance": [],
      "include_colab_link": true
    },
    "kernelspec": {
      "name": "python3",
      "display_name": "Python 3"
    },
    "language_info": {
      "name": "python"
    }
  },
  "cells": [
    {
      "cell_type": "markdown",
      "metadata": {
        "id": "view-in-github",
        "colab_type": "text"
      },
      "source": [
        "<a href=\"https://colab.research.google.com/github/patricio200/IA2025/blob/main/Assignment_PIA_Patricio_Ramirez_Garc%C3%ADa.ipynb\" target=\"_parent\"><img src=\"https://colab.research.google.com/assets/colab-badge.svg\" alt=\"Open In Colab\"/></a>"
      ]
    },
    {
      "cell_type": "code",
      "source": [],
      "metadata": {
        "id": "zqA2quYUl6Yx"
      },
      "execution_count": null,
      "outputs": []
    },
    {
      "cell_type": "markdown",
      "source": [
        "Universidad Autonoma de Nuevo León - Facultad de Ingenieria Mecanica y Electrica\n",
        "> Inteligencia Artifial | Ene - Jun 2025\n",
        "\n",
        "Professor:\n",
        "\n",
        "> Daniel Isaías López Páez\n",
        "\n",
        "Students:\n",
        "\n",
        ">  2077950 Patricio Ramirez García"
      ],
      "metadata": {
        "id": "PWDreBQCuHis"
      }
    },
    {
      "cell_type": "markdown",
      "source": [
        "**Final Project.- Training a Machine Learning model on medical images.**"
      ],
      "metadata": {
        "id": "5akniYLNuIU0"
      }
    },
    {
      "cell_type": "markdown",
      "source": [
        "**Objective**.- Final Project.- Training a Machine Learning model on medical images.\n",
        "\n",
        "\n",
        "\n",
        "\n",
        "**Instructions**.-\n",
        "\n",
        "*   The student will train a decision tree model in Google Colab using the Python programming language. This model will use the \"Breast Cancer Wisconsin (Diagnostic)\" dataset; this dataset contains features computed from digitized images of breast cancer tumors and the corresponding diagnosis (malignant or benign). The dataset is part of the scikit-learn library. More information about this dataset: https://medium.com/@shashmikaranam/exploratory-data-analysis-breast-cancer-wisconsin-diagnostic-dataset-6a3be9525cd\n",
        "*  During data preprocessing, the \"train_test_split\" function from the scikit-learn library will be used to generate the training data sets (train_data, train_labels) and test data sets (test_data, test_label). An 80% training and 20% testing ratio will be used.\n",
        "*   The decision tree model will be trained with the training data using the \"fit\" function from the scikit-learn library.\n",
        "*  Predictions will be made with the test data set (test_data).\n",
        "*  The \"accuracy\" function from scikit-learn will be used to calculate accuracy, which will be the metric used to evaluate the model's performance during testing, as well as the \"classification_report\" function that summarizes the model's performance results during testing. Such results should be displayed.\n",
        "*  The graphical representation of the decision tree will be visualized as well. Use DPI resolution = 300.\n",
        "\n"
      ],
      "metadata": {
        "id": "BaOiVCQ8uS81"
      }
    },
    {
      "cell_type": "markdown",
      "source": [
        "# **Artificial Intelligence final project.**"
      ],
      "metadata": {
        "id": "S7PlNI2Wt351"
      }
    },
    {
      "cell_type": "markdown",
      "source": [
        "# **CNN to diagnosis pneumonia from x-rays**\n",
        "\n",
        "\n"
      ],
      "metadata": {
        "id": "h9mmeB1lyBaz"
      }
    },
    {
      "cell_type": "markdown",
      "source": [
        "# **Introduction to the project.**"
      ],
      "metadata": {
        "id": "Flljrluxt8OZ"
      }
    },
    {
      "cell_type": "markdown",
      "source": [
        "Pneumonia remains a significant cause of morbidity and mortality worldwide, particularly in vulnerable populations such as children, the elderly, and immunocompromised individuals. Timely and accurate diagnosis of pneumonia is crucial for initiating appropriate treatment and reducing the associated morbidity and mortality rates.\n",
        "\n",
        "Traditional methods of diagnosing pneumonia often rely on clinical symptoms, physical examination, and radiological findings, with chest X-rays being a cornerstone in the diagnostic process. However, interpreting chest X-ray images for pneumonia lesions can be challenging and requires expertise.\n",
        "\n",
        "In recent years, advances in deep learning, particularly Convolutional Neural Networks (CNNs), have shown promise in automating the detection of pneumonia in chest X-rays. CNNs are powerful machine learning algorithms capable of learning complex patterns and features directly from raw image data. By training CNNs on large datasets of annotated chest X-ray images, we can develop accurate and efficient models for pneumonia detection.\n",
        "\n",
        "In this study, we present a CNN-based approach for automated pneumonia detection in chest X-rays. We leverage a dataset of annotated chest X-ray images to train our model, enabling it to learn discriminative features associated with pneumonia lesions. Our model aims to provide clinicians with a reliable tool for aiding in the diagnosis of pneumonia, assisting in timely treatment decisions and improving patient outcomes.\n",
        "\n",
        "Through rigorous evaluation and validation, we demonstrate the effectiveness and robustness of our CNN-based approach in accurately detecting pneumonia in chest X-rays. We believe that our model has the potential to complement existing diagnostic methods, assisting healthcare providers in the timely and accurate diagnosis of pneumonia, ultimately leading to improved patient care and outcomes.\n",
        "\n"
      ],
      "metadata": {
        "id": "ytDHq4UVt_kD"
      }
    },
    {
      "cell_type": "markdown",
      "source": [
        "# **Libraries**"
      ],
      "metadata": {
        "id": "Bb-fEUgwk0Vx"
      }
    },
    {
      "cell_type": "code",
      "execution_count": null,
      "metadata": {
        "id": "4H9wLAVjJHel"
      },
      "outputs": [],
      "source": [
        "import numpy as np # linear algebra\n",
        "import pandas as pd # data processing, CSV file I/O (e.g. pd.read_csv)\n",
        "import os\n",
        "for dirname, _, filenames in os.walk('/kaggle/input'):\n",
        "    for filename in filenames:\n",
        "        print(os.path.join(dirname, filename))\n",
        "from collections import Counter\n",
        "import tensorflow as tf\n",
        "from tensorflow.keras import datasets, layers, models\n",
        "import matplotlib.pyplot as plt"
      ]
    },
    {
      "cell_type": "code",
      "source": [
        "!kaggle datasets download -d paultimothymooney/chest-xray-pneumonia"
      ],
      "metadata": {
        "colab": {
          "base_uri": "https://localhost:8080/"
        },
        "id": "sa5VisCXJRVx",
        "outputId": "f50a66a5-a092-4874-94a3-094a58371466"
      },
      "execution_count": null,
      "outputs": [
        {
          "output_type": "stream",
          "name": "stdout",
          "text": [
            "Dataset URL: https://www.kaggle.com/datasets/paultimothymooney/chest-xray-pneumonia\n",
            "License(s): other\n",
            "Downloading chest-xray-pneumonia.zip to /content\n",
            "100% 2.28G/2.29G [00:19<00:00, 178MB/s]\n",
            "100% 2.29G/2.29G [00:19<00:00, 127MB/s]\n"
          ]
        }
      ]
    },
    {
      "cell_type": "code",
      "source": [
        "import zipfile\n",
        "zip_ref = zipfile.ZipFile('/content/chest-xray-pneumonia.zip', 'r')\n",
        "zip_ref.extractall('/content')\n",
        "zip_ref.close()"
      ],
      "metadata": {
        "id": "NK56_rI3JeWK"
      },
      "execution_count": null,
      "outputs": []
    },
    {
      "cell_type": "code",
      "source": [
        "for dirname, _, filenames in os.walk('/kaggle/input'):\n",
        "    for filename in filenames:\n",
        "        print(os.path.join(dirname, filename))"
      ],
      "metadata": {
        "id": "vKunkG65ePlU"
      },
      "execution_count": null,
      "outputs": []
    },
    {
      "cell_type": "code",
      "source": [
        "import numpy as np\n",
        "import cv2\n",
        "import os\n",
        "\n",
        "data_dir = \"/content/chest_xray/train\"\n",
        "sub_folders = os.listdir(data_dir)\n",
        "print(len(sub_folders))"
      ],
      "metadata": {
        "colab": {
          "base_uri": "https://localhost:8080/"
        },
        "id": "T3veCNY1eJQD",
        "outputId": "4f32ba8a-176d-4306-9555-6bac158324d1"
      },
      "execution_count": null,
      "outputs": [
        {
          "output_type": "stream",
          "name": "stdout",
          "text": [
            "2\n"
          ]
        }
      ]
    },
    {
      "cell_type": "code",
      "source": [
        "images = []\n",
        "labels = []"
      ],
      "metadata": {
        "id": "QGY3zyOggP0-"
      },
      "execution_count": null,
      "outputs": []
    },
    {
      "cell_type": "markdown",
      "source": [
        "# **Preprocessing**"
      ],
      "metadata": {
        "id": "pqNC2GV2k_8g"
      }
    },
    {
      "cell_type": "code",
      "source": [
        "for sub_folder in sub_folders:\n",
        "    label = sub_folder\n",
        "\n",
        "    # Constructing the path to the current sub_folder\n",
        "    path = os.path.join(data_dir, sub_folder)\n",
        "\n",
        "    # Listing all the images in the sub_folder\n",
        "    sub_folder_images = os.listdir(path)\n",
        "\n",
        "    for image_name in sub_folder_images:\n",
        "        image_path = os.path.join(path, image_name)\n",
        "\n",
        "        # Loading the image using OpenCV\n",
        "        img = cv2.imread(image_path)\n",
        "\n",
        "        # Convert the image to grayscale\n",
        "        gray_img = cv2.cvtColor(img, cv2.COLOR_BGR2GRAY)\n",
        "\n",
        "        # Resize the image to (32, 32)\n",
        "        resized_img = cv2.resize(gray_img, (32, 32))\n",
        "\n",
        "        # Append the images to the image list\n",
        "        images.append(resized_img)\n",
        "\n",
        "        # Append the labels\n",
        "        labels.append(label)"
      ],
      "metadata": {
        "id": "Ei-o6J0Cis76"
      },
      "execution_count": null,
      "outputs": []
    },
    {
      "cell_type": "code",
      "source": [
        "plt.imshow(resized_img, cmap='gray')"
      ],
      "metadata": {
        "colab": {
          "base_uri": "https://localhost:8080/",
          "height": 448
        },
        "id": "NT1DW6GVkjuz",
        "outputId": "627b1bc0-61e1-4644-a0cc-1654e3cf3a39"
      },
      "execution_count": null,
      "outputs": [
        {
          "output_type": "execute_result",
          "data": {
            "text/plain": [
              "<matplotlib.image.AxesImage at 0x7ee0ff346290>"
            ]
          },
          "metadata": {},
          "execution_count": 11
        },
        {
          "output_type": "display_data",
          "data": {
            "text/plain": [
              "<Figure size 640x480 with 1 Axes>"
            ],
            "image/png": "[encoded data removed]"
          },
          "metadata": {}
        }
      ]
    },
    {
      "cell_type": "code",
      "source": [
        "images = np.array(images)\n",
        "labels = np.array(labels)"
      ],
      "metadata": {
        "id": "8GnnGzU0l2DX"
      },
      "execution_count": null,
      "outputs": []
    },
    {
      "cell_type": "code",
      "source": [
        "img_resized = cv2.resize(resized_img, (28,28), )\n",
        "img_resized = cv2.bitwise_not(img_resized)\n"
      ],
      "metadata": {
        "id": "qSUPWziqnf4w"
      },
      "execution_count": null,
      "outputs": []
    },
    {
      "cell_type": "code",
      "source": [
        "Numeros='/content/chest_xray'\n",
        "plt.imshow(img_resized, cmap='gray')\n",
        "plt.savefig(\"/content/chest_xray/abc.png\")"
      ],
      "metadata": {
        "colab": {
          "base_uri": "https://localhost:8080/",
          "height": 430
        },
        "id": "_gpUC1YCnr_I",
        "outputId": "77d58965-d9ac-4455-efb7-0be9bfbe905e"
      },
      "execution_count": null,
      "outputs": [
        {
          "output_type": "display_data",
          "data": {
            "text/plain": [
              "<Figure size 640x480 with 1 Axes>"
            ],
            "image/png": "[encoded data removed]"
          },
          "metadata": {}
        }
      ]
    },
    {
      "cell_type": "code",
      "source": [
        "train_dir = \"/content/chest_xray/train\""
      ],
      "metadata": {
        "id": "He_QgZ9xoxT2"
      },
      "execution_count": null,
      "outputs": []
    },
    {
      "cell_type": "code",
      "source": [
        "test_dir = \"//content/chest_xray/test\""
      ],
      "metadata": {
        "id": "Y0gClxiLpNAe"
      },
      "execution_count": null,
      "outputs": []
    },
    {
      "cell_type": "code",
      "source": [
        "images = np.array(images)\n",
        "labels = np.array(labels)"
      ],
      "metadata": {
        "id": "svP5VHGBpSt7"
      },
      "execution_count": null,
      "outputs": []
    },
    {
      "cell_type": "code",
      "source": [
        "!pip install sklearn\n",
        "from sklearn.model_selection import train_test_split\n",
        "train_images, test_images, train_labels, test_labels = train_test_split(images, labels, test_size=0.2, random_state=42)"
      ],
      "metadata": {
        "id": "_yS0UWbipUur",
        "colab": {
          "base_uri": "https://localhost:8080/"
        },
        "outputId": "3a317b87-1573-451b-e5ca-7f72fe38864d"
      },
      "execution_count": null,
      "outputs": [
        {
          "output_type": "stream",
          "name": "stdout",
          "text": [
            "Collecting sklearn\n",
            "  Downloading sklearn-0.0.post12.tar.gz (2.6 kB)\n",
            "  \u001b[1;31merror\u001b[0m: \u001b[1msubprocess-exited-with-error\u001b[0m\n",
            "  \n",
            "  \u001b[31m×\u001b[0m \u001b[32mpython setup.py egg_info\u001b[0m did not run successfully.\n",
            "  \u001b[31m│\u001b[0m exit code: \u001b[1;36m1\u001b[0m\n",
            "  \u001b[31m╰─>\u001b[0m See above for output.\n",
            "  \n",
            "  \u001b[1;35mnote\u001b[0m: This error originates from a subprocess, and is likely not a problem with pip.\n",
            "  Preparing metadata (setup.py) ... \u001b[?25l\u001b[?25herror\n",
            "\u001b[1;31merror\u001b[0m: \u001b[1mmetadata-generation-failed\u001b[0m\n",
            "\n",
            "\u001b[31m×\u001b[0m Encountered error while generating package metadata.\n",
            "\u001b[31m╰─>\u001b[0m See above for output.\n",
            "\n",
            "\u001b[1;35mnote\u001b[0m: This is an issue with the package mentioned above, not pip.\n",
            "\u001b[1;36mhint\u001b[0m: See above for details.\n"
          ]
        }
      ]
    },
    {
      "cell_type": "code",
      "source": [
        "# Preprocessing: visualization of variables and image normalization.\n",
        "train_images.shape"
      ],
      "metadata": {
        "colab": {
          "base_uri": "https://localhost:8080/"
        },
        "id": "PL5cx_xjpW67",
        "outputId": "526de31f-3f91-4ae2-a359-f2e28ed82d04"
      },
      "execution_count": null,
      "outputs": [
        {
          "output_type": "execute_result",
          "data": {
            "text/plain": [
              "(4172, 32, 32)"
            ]
          },
          "metadata": {},
          "execution_count": 20
        }
      ]
    },
    {
      "cell_type": "code",
      "source": [
        "len(train_labels)"
      ],
      "metadata": {
        "colab": {
          "base_uri": "https://localhost:8080/"
        },
        "id": "aLGqhEvmpZOp",
        "outputId": "cb4de97e-3d14-433a-e120-99bb57a3e63d"
      },
      "execution_count": null,
      "outputs": [
        {
          "output_type": "execute_result",
          "data": {
            "text/plain": [
              "4172"
            ]
          },
          "metadata": {},
          "execution_count": 21
        }
      ]
    },
    {
      "cell_type": "code",
      "source": [
        "train_labels"
      ],
      "metadata": {
        "colab": {
          "base_uri": "https://localhost:8080/"
        },
        "id": "4bPC86Dopa2p",
        "outputId": "da711d38-8909-4b51-cd79-2f99b2fe2730"
      },
      "execution_count": null,
      "outputs": [
        {
          "output_type": "execute_result",
          "data": {
            "text/plain": [
              "array(['PNEUMONIA', 'PNEUMONIA', 'PNEUMONIA', ..., 'PNEUMONIA', 'NORMAL',\n",
              "       'PNEUMONIA'], dtype='<U9')"
            ]
          },
          "metadata": {},
          "execution_count": 22
        }
      ]
    },
    {
      "cell_type": "code",
      "source": [
        "test_images.shape"
      ],
      "metadata": {
        "colab": {
          "base_uri": "https://localhost:8080/"
        },
        "id": "Q3-DwFg1pd_G",
        "outputId": "78cf2fdc-a7b3-421e-ea62-67d667927e01"
      },
      "execution_count": null,
      "outputs": [
        {
          "output_type": "execute_result",
          "data": {
            "text/plain": [
              "(1044, 32, 32)"
            ]
          },
          "metadata": {},
          "execution_count": 23
        }
      ]
    },
    {
      "cell_type": "code",
      "source": [
        "len(test_labels)"
      ],
      "metadata": {
        "colab": {
          "base_uri": "https://localhost:8080/"
        },
        "id": "YsqrVmWopfqn",
        "outputId": "a159ce8c-efa1-46a4-9e4f-722e411d2d06"
      },
      "execution_count": null,
      "outputs": [
        {
          "output_type": "execute_result",
          "data": {
            "text/plain": [
              "1044"
            ]
          },
          "metadata": {},
          "execution_count": 24
        }
      ]
    },
    {
      "cell_type": "code",
      "source": [
        "# Normalization of pixel values.\n",
        "train_images = train_images / 255.0\n",
        "test_images = test_images / 255.0"
      ],
      "metadata": {
        "id": "bvYzLH4yphzy"
      },
      "execution_count": null,
      "outputs": []
    },
    {
      "cell_type": "markdown",
      "source": [
        "# **Structure and training of Convolutional Artificial Neural Network (CNN)**"
      ],
      "metadata": {
        "id": "j0tNqt46pj1S"
      }
    },
    {
      "cell_type": "code",
      "source": [
        "# Convolutional part\n",
        "model = models.Sequential()\n",
        "model.add(layers.Conv2D(32, (3, 3), activation='relu', input_shape=(32, 32, 1)))  # Adjust input shape\n",
        "model.add(layers.MaxPooling2D((2, 2)))\n",
        "model.add(layers.Conv2D(64, (3, 3), activation='relu'))\n",
        "model.add(layers.MaxPooling2D((2, 2)))\n",
        "model.add(layers.Conv2D(64, (3, 3), activation='relu'))"
      ],
      "metadata": {
        "id": "d3IFbzhNpl9J"
      },
      "execution_count": null,
      "outputs": []
    },
    {
      "cell_type": "code",
      "source": [
        "# Learning part\n",
        "model.add(layers.Flatten())\n",
        "model.add(layers.Dense(64, activation='relu'))\n",
        "model.add(layers.Dense(10, activation='softmax'))"
      ],
      "metadata": {
        "id": "k2tuuGqQpz49"
      },
      "execution_count": null,
      "outputs": []
    },
    {
      "cell_type": "code",
      "source": [
        "# Model Compliation: Features\n",
        "model.compile(optimizer='adam',\n",
        "              loss=tf.keras.losses.SparseCategoricalCrossentropy(from_logits=True),\n",
        "              metrics=['accuracy'])"
      ],
      "metadata": {
        "id": "q2uMd3KfqOfw"
      },
      "execution_count": null,
      "outputs": []
    },
    {
      "cell_type": "code",
      "source": [
        "from tensorflow import keras\n",
        "from keras.utils import to_categorical\n",
        "\n",
        "# Initialize LabelEncoder\n",
        "label_encoder = LabelEncoder()\n",
        "\n",
        "# Fit LabelEncoder on the labels and transform them to numerical labels\n",
        "train_labels_encoded = label_encoder.fit_transform(train_labels)\n",
        "test_labels_encoded = label_encoder.transform(test_labels)\n",
        "\n",
        "# Convert numerical labels to one-hot encoded format\n",
        "train_labels_one_hot = to_categorical(train_labels_encoded)\n",
        "test_labels_one_hot = to_categorical(test_labels_encoded)"
      ],
      "metadata": {
        "id": "78J4cjfOqOe2"
      },
      "execution_count": null,
      "outputs": []
    },
    {
      "cell_type": "markdown",
      "source": [
        "#**CNN Accuracy Results**\n"
      ],
      "metadata": {
        "id": "6B27yEVnrJl8"
      }
    },
    {
      "cell_type": "code",
      "source": [
        "# Train the model and capture the training history\n",
        "history = model.fit(train_images, train_labels_encoded, epochs=10,\n",
        "                    validation_data=(test_images, test_labels_encoded))\n",
        "\n",
        "\n",
        "# Plotting the training and validation accuracies\n",
        "import matplotlib.pyplot as plt\n",
        "\n",
        "plt.plot(history.history['accuracy'], label='accuracy')\n",
        "plt.plot(history.history['val_accuracy'], label='val_accuracy')\n",
        "plt.xlabel('Epoch')\n",
        "plt.ylabel('Accuracy')\n",
        "plt.ylim([0.4, 1])\n",
        "plt.xlim([-1, 11])\n",
        "plt.legend(loc='lower right')\n",
        "plt.show()\n",
        "\n",
        "# Evaluate the model on the test data\n",
        "test_loss, test_acc = model.evaluate(test_images, test_labels_encoded, verbose=2)\n"
      ],
      "metadata": {
        "colab": {
          "base_uri": "https://localhost:8080/",
          "height": 894
        },
        "id": "CIvxLAOyrK7P",
        "outputId": "b72769e8-6a76-4cdb-f6fc-97930028d1ac"
      },
      "execution_count": null,
      "outputs": [
        {
          "output_type": "stream",
          "name": "stdout",
          "text": [
            "Epoch 1/10\n"
          ]
        },
        {
          "output_type": "stream",
          "name": "stderr",
          "text": [
            "/usr/local/lib/python3.10/dist-packages/keras/src/backend.py:5727: UserWarning: \"`sparse_categorical_crossentropy` received `from_logits=True`, but the `output` argument was produced by a Softmax activation and thus does not represent logits. Was this intended?\n",
            "  output, from_logits = _get_logits(\n"
          ]
        },
        {
          "output_type": "stream",
          "name": "stdout",
          "text": [
            "131/131 [==============================] - 6s 40ms/step - loss: 0.5651 - accuracy: 0.7704 - val_loss: 0.3150 - val_accuracy: 0.8774\n",
            "Epoch 2/10\n",
            "131/131 [==============================] - 6s 43ms/step - loss: 0.2140 - accuracy: 0.9180 - val_loss: 0.1719 - val_accuracy: 0.9272\n",
            "Epoch 3/10\n",
            "131/131 [==============================] - 5s 38ms/step - loss: 0.1558 - accuracy: 0.9398 - val_loss: 0.1521 - val_accuracy: 0.9454\n",
            "Epoch 4/10\n",
            "131/131 [==============================] - 6s 46ms/step - loss: 0.1099 - accuracy: 0.9585 - val_loss: 0.1136 - val_accuracy: 0.9511\n",
            "Epoch 5/10\n",
            "131/131 [==============================] - 5s 35ms/step - loss: 0.0942 - accuracy: 0.9652 - val_loss: 0.1011 - val_accuracy: 0.9598\n",
            "Epoch 6/10\n",
            "131/131 [==============================] - 5s 36ms/step - loss: 0.0856 - accuracy: 0.9684 - val_loss: 0.1009 - val_accuracy: 0.9636\n",
            "Epoch 7/10\n",
            "131/131 [==============================] - 6s 45ms/step - loss: 0.0788 - accuracy: 0.9705 - val_loss: 0.0997 - val_accuracy: 0.9626\n",
            "Epoch 8/10\n",
            "131/131 [==============================] - 5s 36ms/step - loss: 0.0656 - accuracy: 0.9765 - val_loss: 0.1361 - val_accuracy: 0.9540\n",
            "Epoch 9/10\n",
            "131/131 [==============================] - 6s 46ms/step - loss: 0.0599 - accuracy: 0.9775 - val_loss: 0.0828 - val_accuracy: 0.9693\n",
            "Epoch 10/10\n",
            "131/131 [==============================] - 5s 35ms/step - loss: 0.0648 - accuracy: 0.9736 - val_loss: 0.0924 - val_accuracy: 0.9665\n"
          ]
        },
        {
          "output_type": "display_data",
          "data": {
            "text/plain": [
              "<Figure size 640x480 with 1 Axes>"
            ],
            "image/png": "[encoded data removed]"
          },
          "metadata": {}
        },
        {
          "output_type": "stream",
          "name": "stdout",
          "text": [
            "33/33 - 0s - loss: 0.0924 - accuracy: 0.9665 - 274ms/epoch - 8ms/step\n"
          ]
        }
      ]
    },
    {
      "cell_type": "markdown",
      "source": [
        "# **Predictions with the trained CNN.**"
      ],
      "metadata": {
        "id": "KFlyY2vEsU55"
      }
    },
    {
      "cell_type": "code",
      "source": [
        "predictions = model.predict(test_images)"
      ],
      "metadata": {
        "colab": {
          "base_uri": "https://localhost:8080/"
        },
        "id": "c3TwIvgbsZSq",
        "outputId": "e9b46ca1-889f-464e-e2b1-990a57611919"
      },
      "execution_count": null,
      "outputs": [
        {
          "output_type": "stream",
          "name": "stdout",
          "text": [
            "33/33 [==============================] - 1s 15ms/step\n"
          ]
        }
      ]
    },
    {
      "cell_type": "code",
      "source": [
        "x = predictions[1]\n",
        "y = test_labels[1]\n",
        "print(\"La red dice que la imagen es clase \" + str(x) + \" y la clase verdadera es: \" + y)"
      ],
      "metadata": {
        "colab": {
          "base_uri": "https://localhost:8080/"
        },
        "id": "BxsNRfh5smOn",
        "outputId": "686f3d29-cccc-4010-afce-023e57fa66e4"
      },
      "execution_count": null,
      "outputs": [
        {
          "output_type": "stream",
          "name": "stdout",
          "text": [
            "La red dice que la imagen es clase [2.02521339e-01 7.97450840e-01 4.91904393e-06 7.74199350e-07\n",
            " 1.39257429e-06 1.06799425e-05 3.52162283e-06 3.54793360e-06\n",
            " 1.37088909e-06 1.66934194e-06] y la clase verdadera es: PNEUMONIA\n"
          ]
        }
      ]
    },
    {
      "cell_type": "code",
      "source": [
        "x = predictions[50]\n",
        "y = test_labels[50]\n",
        "print(\"La red dice que la imagen es clase \" + str(x) + \" y la clase verdadera es: \" + y)"
      ],
      "metadata": {
        "colab": {
          "base_uri": "https://localhost:8080/"
        },
        "id": "z0IePxE7swwB",
        "outputId": "56d1fecf-bda4-4388-ffd6-0fae2362404b"
      },
      "execution_count": null,
      "outputs": [
        {
          "output_type": "stream",
          "name": "stdout",
          "text": [
            "La red dice que la imagen es clase [1.4047509e-02 9.8583817e-01 1.1058898e-05 3.5278736e-06 4.0044692e-06\n",
            " 4.1139294e-05 1.0778783e-05 3.1231855e-05 3.9205906e-06 8.5484262e-06] y la clase verdadera es: PNEUMONIA\n"
          ]
        }
      ]
    },
    {
      "cell_type": "code",
      "source": [
        "x = predictions[40]\n",
        "y = test_labels[40]\n",
        "print(\"La red dice que la imagen es clase \" + str(x) + \" y la clase verdadera es: \" + y)"
      ],
      "metadata": {
        "colab": {
          "base_uri": "https://localhost:8080/"
        },
        "id": "7wLP4B5fs8q2",
        "outputId": "de2fb834-0a2c-426d-f9d3-1f1027687942"
      },
      "execution_count": null,
      "outputs": [
        {
          "output_type": "stream",
          "name": "stdout",
          "text": [
            "La red dice que la imagen es clase [4.5647877e-04 9.9953431e-01 8.2310675e-07 1.8682510e-07 9.6552618e-08\n",
            " 4.3586842e-06 4.1296303e-07 2.4308738e-06 2.3095576e-07 6.3376734e-07] y la clase verdadera es: PNEUMONIA\n"
          ]
        }
      ]
    },
    {
      "cell_type": "code",
      "source": [
        "x = predictions[2]\n",
        "y = test_labels[2]\n",
        "print(\"La red dice que la imagen es clase \" + str(x) + \" y la clase verdadera es: \" + y)"
      ],
      "metadata": {
        "colab": {
          "base_uri": "https://localhost:8080/"
        },
        "id": "_z6sHze-tA2i",
        "outputId": "3f60d371-1b87-4111-d717-4244c0756e7c"
      },
      "execution_count": null,
      "outputs": [
        {
          "output_type": "stream",
          "name": "stdout",
          "text": [
            "La red dice que la imagen es clase [9.9721742e-01 2.7553427e-03 7.2291728e-06 1.0842958e-06 4.5505162e-06\n",
            " 4.0447048e-06 6.0684229e-06 1.1161617e-06 2.0252269e-06 1.0407293e-06] y la clase verdadera es: NORMAL\n"
          ]
        }
      ]
    },
    {
      "cell_type": "code",
      "source": [
        "x = predictions[37]\n",
        "y = test_labels[37]\n",
        "print(\"La red dice que la imagen es clase \" + str(x) + \" y la clase verdadera es: \" + y)"
      ],
      "metadata": {
        "colab": {
          "base_uri": "https://localhost:8080/"
        },
        "id": "MZJliOrztD3Z",
        "outputId": "d2b28557-45c0-4033-a9f6-c5189e4fbc13"
      },
      "execution_count": null,
      "outputs": [
        {
          "output_type": "stream",
          "name": "stdout",
          "text": [
            "La red dice que la imagen es clase [4.2255456e-06 9.9999505e-01 2.7296771e-08 6.3277215e-09 1.9623503e-09\n",
            " 3.7707014e-07 1.1669358e-08 1.9566694e-07 8.1139140e-09 4.4747985e-08] y la clase verdadera es: PNEUMONIA\n"
          ]
        }
      ]
    },
    {
      "cell_type": "code",
      "source": [
        "x = predictions[62]\n",
        "y = test_labels[62]\n",
        "print(\"La red dice que la imagen es clase \" + str(x) + \" y la clase verdadera es: \" + y)"
      ],
      "metadata": {
        "colab": {
          "base_uri": "https://localhost:8080/"
        },
        "id": "jLuocQmktHeA",
        "outputId": "e3b81274-b792-4184-e036-a3be967d3605"
      },
      "execution_count": null,
      "outputs": [
        {
          "output_type": "stream",
          "name": "stdout",
          "text": [
            "La red dice que la imagen es clase [9.8819780e-01 1.1769115e-02 7.9896554e-06 1.3382981e-06 5.4026077e-06\n",
            " 6.1840451e-06 6.5415088e-06 2.1160629e-06 2.1014264e-06 1.4534045e-06] y la clase verdadera es: NORMAL\n"
          ]
        }
      ]
    },
    {
      "cell_type": "code",
      "source": [
        "x = predictions[29]\n",
        "y = test_labels[29]\n",
        "print(\"La red dice que la imagen es clase \" + str(x) + \" y la clase verdadera es: \" + y)"
      ],
      "metadata": {
        "colab": {
          "base_uri": "https://localhost:8080/"
        },
        "id": "EOKNm-cytMh4",
        "outputId": "ffcf7195-a6e3-4721-c832-4a54fa6d3fa2"
      },
      "execution_count": null,
      "outputs": [
        {
          "output_type": "stream",
          "name": "stdout",
          "text": [
            "La red dice que la imagen es clase [1.5713151e-05 9.9998349e-01 3.5991899e-08 9.0940517e-09 3.9799959e-09\n",
            " 3.7911781e-07 2.3879247e-08 2.5495817e-07 1.0334238e-08 5.4355315e-08] y la clase verdadera es: PNEUMONIA\n"
          ]
        }
      ]
    },
    {
      "cell_type": "code",
      "source": [
        "x = predictions[84]\n",
        "y = test_labels[84]\n",
        "print(\"La red dice que la imagen es clase \" + str(x) + \" y la clase verdadera es: \" + y)"
      ],
      "metadata": {
        "colab": {
          "base_uri": "https://localhost:8080/"
        },
        "id": "3wZy2UR0tPro",
        "outputId": "ef1eb58b-899f-413a-ee0c-28adc2c0ac90"
      },
      "execution_count": null,
      "outputs": [
        {
          "output_type": "stream",
          "name": "stdout",
          "text": [
            "La red dice que la imagen es clase [3.4973948e-04 9.9962956e-01 1.7183999e-06 4.6169325e-07 2.9249969e-07\n",
            " 8.7535691e-06 1.2474710e-06 6.1380424e-06 5.5558542e-07 1.7162249e-06] y la clase verdadera es: PNEUMONIA\n"
          ]
        }
      ]
    },
    {
      "cell_type": "code",
      "source": [
        "x = predictions[14]\n",
        "y = test_labels[14]\n",
        "print(\"La red dice que la imagen es clase \" + str(x) + \" y la clase verdadera es: \" + y)"
      ],
      "metadata": {
        "colab": {
          "base_uri": "https://localhost:8080/"
        },
        "id": "GLHwsqGnbIZP",
        "outputId": "6bfb1df5-54c4-48e7-a3fb-a131a252267d"
      },
      "execution_count": null,
      "outputs": [
        {
          "output_type": "stream",
          "name": "stdout",
          "text": [
            "La red dice que la imagen es clase [1.3862825e-04 9.9985886e-01 1.5804409e-07 4.0484121e-08 2.4844447e-08\n",
            " 1.1839456e-06 1.1300795e-07 7.7662673e-07 4.3726789e-08 1.6771082e-07] y la clase verdadera es: PNEUMONIA\n"
          ]
        }
      ]
    },
    {
      "cell_type": "code",
      "source": [
        "x = predictions[77]\n",
        "y = test_labels[77]\n",
        "print(\"La red dice que la imagen es clase \" + str(x) + \" y la clase verdadera es: \" + y)"
      ],
      "metadata": {
        "colab": {
          "base_uri": "https://localhost:8080/"
        },
        "id": "B7NE-J82tYkU",
        "outputId": "1664b3a3-1a31-47ae-c500-1e6f32f7496e"
      },
      "execution_count": null,
      "outputs": [
        {
          "output_type": "stream",
          "name": "stdout",
          "text": [
            "La red dice que la imagen es clase [9.9993926e-01 6.0619655e-05 2.5983830e-08 5.7224181e-10 1.3238945e-10\n",
            " 1.3656268e-11 1.0853304e-08 3.7810777e-09 3.0216555e-11 9.7805386e-10] y la clase verdadera es: NORMAL\n"
          ]
        }
      ]
    },
    {
      "cell_type": "code",
      "source": [
        "import matplotlib.pyplot as plt\n",
        "\n",
        "# Indices of predictions to display\n",
        "indices = [1, 50, 40, 2, 37, 62, 29, 84, 14, 77]\n",
        "\n",
        "# Assuming test_images contains the images\n",
        "images_to_show = [test_images[i] for i in indices]\n",
        "\n",
        "# Display the images\n",
        "plt.figure(figsize=(12, 8))\n",
        "for i, image in enumerate(images_to_show, 1):\n",
        "    plt.subplot(2, 5, i)\n",
        "    plt.imshow(image, cmap='gray')\n",
        "    plt.title(f\"Prediction {indices[i-1]}\")\n",
        "    plt.axis('off')\n",
        "\n",
        "plt.tight_layout()\n",
        "plt.show()"
      ],
      "metadata": {
        "colab": {
          "base_uri": "https://localhost:8080/",
          "height": 625
        },
        "id": "RrVzElyo0Hom",
        "outputId": "4ad1693c-d1a4-43b3-c1e3-c5af7c9e8e60"
      },
      "execution_count": null,
      "outputs": [
        {
          "output_type": "display_data",
          "data": {
            "text/plain": [
              "<Figure size 1200x800 with 10 Axes>"
            ],
            "image/png": "[encoded data removed]"
          },
          "metadata": {}
        }
      ]
    }
  ]
}